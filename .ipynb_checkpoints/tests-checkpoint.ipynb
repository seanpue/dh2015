{
 "metadata": {
  "name": "",
  "signature": "sha256:31f392f97899217b6d32fa927e151268fccc81d1b257594705bf18eb55ea6f63"
 },
 "nbformat": 3,
 "nbformat_minor": 0,
 "worksheets": [
  {
   "cells": [
    {
     "cell_type": "markdown",
     "metadata": {},
     "source": [
      "Temporary tests"
     ]
    },
    {
     "cell_type": "code",
     "collapsed": false,
     "input": [
      "import graphparser\n",
      "reload(graphparser)\n",
      "nagarip = graphparser.GraphParser('settings/devanagari.yaml')\n",
      "urdup = graphparser.GraphParser('settings/urdu.yaml')"
     ],
     "language": "python",
     "metadata": {},
     "outputs": [],
     "prompt_number": 31
    },
    {
     "cell_type": "code",
     "collapsed": false,
     "input": [],
     "language": "python",
     "metadata": {},
     "outputs": []
    }
   ],
   "metadata": {}
  }
 ]
}