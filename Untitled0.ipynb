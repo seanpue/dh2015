{
 "metadata": {
  "name": "",
  "signature": "sha256:29e494ea107681517c33c8a0462d5d1abfe96a4b240ff09fecaf4dd37bcc8a1b"
 },
 "nbformat": 3,
 "nbformat_minor": 0,
 "worksheets": [
  {
   "cells": [
    {
     "cell_type": "code",
     "collapsed": false,
     "input": [
      "import graphparser\n",
      "reload(graphparser)\n",
      "nagarip = graphparser.GraphParser('settings/devanagari.yaml')\n",
      "urdup = graphparser.GraphParser('settings/urdu.yaml')"
     ],
     "language": "python",
     "metadata": {},
     "outputs": [],
     "prompt_number": 19
    },
    {
     "cell_type": "code",
     "collapsed": false,
     "input": [
      "print nagarip.parse('kabhii kyaa kiyaa kih haa;n ((al;aa').output\n",
      "print urdup.parse('((aql-o-dil ((aql -o- dil kih ((al;aa').output"
     ],
     "language": "python",
     "metadata": {},
     "outputs": [
      {
       "output_type": "stream",
       "stream": "stdout",
       "text": [
        "\u0915\u092d\u0940 \u0915\u094d\u092f\u093e \u0915\u093f\u092f\u093e \u0915\u093f \u0939\u093e\u0901 \u0905\u0932\u093e\n",
        "\u0639\u0642\u0644 \u0648 \u062f\u0644 \u0639\u0642\u0644 \u0648 \u062f\u0644 \u06a9\u06c1 \u0639\u0644\u06cc\u0670\n"
       ]
      }
     ],
     "prompt_number": 23
    },
    {
     "cell_type": "code",
     "collapsed": false,
     "input": [
      "print nagarip.parse(' kyaa').output"
     ],
     "language": "python",
     "metadata": {},
     "outputs": [
      {
       "output_type": "stream",
       "stream": "stdout",
       "text": [
        " \u0915\u092f\u093e\n"
       ]
      }
     ],
     "prompt_number": 5
    },
    {
     "cell_type": "code",
     "collapsed": false,
     "input": [
      "type(nagarip.onmatch_rules_by_token)#['k'])"
     ],
     "language": "python",
     "metadata": {},
     "outputs": [
      {
       "metadata": {},
       "output_type": "pyout",
       "prompt_number": 10,
       "text": [
        "collections.defaultdict"
       ]
      }
     ],
     "prompt_number": 10
    },
    {
     "cell_type": "code",
     "collapsed": false,
     "input": [
      "nagarip.onmatch_rules"
     ],
     "language": "python",
     "metadata": {},
     "outputs": [],
     "prompt_number": 15
    },
    {
     "cell_type": "code",
     "collapsed": false,
     "input": [],
     "language": "python",
     "metadata": {},
     "outputs": []
    }
   ],
   "metadata": {}
  }
 ]
}