{
 "metadata": {
  "name": "",
  "signature": "sha256:7ca61a6d437d83168cb48a7d8a33cf5f9876c6503c9f60d2d1a45123138ad863"
 },
 "nbformat": 3,
 "nbformat_minor": 0,
 "worksheets": [
  {
   "cells": [
    {
     "cell_type": "code",
     "collapsed": false,
     "input": [
      "pwd"
     ],
     "language": "python",
     "metadata": {},
     "outputs": [
      {
       "metadata": {},
       "output_type": "pyout",
       "prompt_number": 1,
       "text": [
        "u'/Users/seanpue/ghalib-concordance/graphparser'"
       ]
      }
     ],
     "prompt_number": 1
    },
    {
     "cell_type": "code",
     "collapsed": false,
     "input": [
      "import graphparser\n",
      "reload(graphparser)"
     ],
     "language": "python",
     "metadata": {},
     "outputs": [
      {
       "metadata": {},
       "output_type": "pyout",
       "prompt_number": 2,
       "text": [
        "<module 'graphparser' from 'graphparser.pyc'>"
       ]
      }
     ],
     "prompt_number": 2
    },
    {
     "cell_type": "code",
     "collapsed": false,
     "input": [
      "nagarip = graphparser.GraphParser('settings/devanagari.yaml')"
     ],
     "language": "python",
     "metadata": {},
     "outputs": [
      {
       "output_type": "stream",
       "stream": "stdout",
       "text": [
        "<z_consonant> + <z_consonant>\n",
        "<m> + <h_char>\n",
        "<n> + consonant\n",
        "<k> + <kh>\n",
        "<r> + <r>\n",
        "<r> + <z>\n",
        "<l> + <h>\n",
        "<v> + <v>\n",
        "<;t> + <;th>\n",
        "<d> + <d>\n",
        "<consonant> <vowel> <s> + <t> <long_vowel>\n",
        "<consonant> <long_vowel> <consonant> + <consonant> <long_vowel>\n",
        "<consonant> <vowel> <vowel_nasal> <consonant> + <consonant> <long_vowel>\n",
        "<consonant> <short_vowel> <h_char> + <consonant>\n",
        "<wb> <consonant> <short_vowel> <consonant> + <consonant> <long_vowel> <vowel_nasal>\n",
        "<wb> <short_vowel> <consonant> + <consonant> <short_vowel>\n",
        "<wb> <short_vowel> <consonant> + <consonant> <long_vowel> <consonant>\n",
        "<consonant> <short_vowel> <consonant> + <consonant> <long_vowel>\n",
        "<wb> <vowel> <consonant> + <consonant> <vowel>\n",
        "<wb> <consonant> <short_vowel> <z> + <z> <short_vowel> <consonant>\n",
        "<wb> <consonant> <short_vowel> <consonant> + <consonant> <short_vowel> <consonant>\n",
        "<n> + <consonant>\n",
        "<wb> <long_vowel> <consonant> + <consonant> <long_vowel>\n",
        "<consonant> + <consonant>\n",
        "<k> + <k_group>\n",
        "<ch> + <ch_group>\n",
        "<wb> <consonant> <long_vowel> <consonant> + <consonant> <long_vowel>\n",
        "<wb> <consonant> <long_vowel> <consonant> + <consonant> <short_vowel> <consonant>\n",
        "<wb> <consonant> <short_vowel> <sibilant> + <consonant> <wb>\n",
        "<wb> <consonant> <short_vowel> <consonant> + <consonant> <wb>\n",
        "<wb> <short_vowel> <consonant> + <consonant> <long_vowel> <wb>\n",
        "<wb> <short_vowel> <consonant> + <consonant> <long_vowel> <consonant> <wb>\n",
        "<wb> <short_vowel> <consonant> <short_vowel> <consonant> + <consonant> <short_vowel> <consonant>\n",
        "<vowel> <n> + <consonant>\n",
        "<consonant> + <n> <aa> <wb>\n",
        "<consonant> + <n> <e> <wb>\n",
        "<consonant> + <t> <aa> <wb>\n",
        "<consonant> + <t> <e> <wb>\n",
        "<consonant> + <t> <ii> <wb>\n",
        "<consonant> + <ain> <short_vowel> <wb>\n",
        "<short_vowel> <ain> + <consonant>\n",
        "<wb> <consonant> <short_vowel> + <consonant> <long_vowel>\n",
        "<wb> <consonant> <short_vowel> <consonant> + <consonant> <long_vowel>\n",
        "<consonant> + <consonant>\n"
       ]
      }
     ],
     "prompt_number": 3
    },
    {
     "cell_type": "code",
     "collapsed": false,
     "input": [
      "print nagarip.parse(\"aapaabaataa kyaa hai;n\").output"
     ],
     "language": "python",
     "metadata": {},
     "outputs": [
      {
       "output_type": "stream",
       "stream": "stdout",
       "text": [
        "\u0906\u092a\u093e\u092c\u093e\u0924\u093e \u0915\u094d\u092f\u093e \u0939\u0948\u0902\n"
       ]
      }
     ],
     "prompt_number": 6
    },
    {
     "cell_type": "code",
     "collapsed": false,
     "input": [
      "nagarip.old_parser.onmatch_rules\n"
     ],
     "language": "python",
     "metadata": {},
     "outputs": [
      {
       "metadata": {},
       "output_type": "pyout",
       "prompt_number": 5,
       "text": [
        "[((['z_consonant'], ['z_consonant']), u'\\u094d'),\n",
        " ((['m'], ['h_char']), u'\\u094d'),\n",
        " ((['n'], []), ''),\n",
        " ((['k'], ['kh']), u'\\u094d'),\n",
        " ((['r'], ['r']), u'\\u094d'),\n",
        " ((['r'], ['z']), u'\\u094d'),\n",
        " ((['l'], ['h']), u'\\u094d'),\n",
        " ((['v'], ['v']), u'\\u094d'),\n",
        " (([';t'], [';th']), u'\\u094d'),\n",
        " ((['d'], ['d']), u'\\u094d'),\n",
        " ((['consonant', 'vowel', 's'], ['t', 'long_vowel']), u'\\u094d'),\n",
        " ((['consonant', 'long_vowel', 'consonant'], ['consonant', 'long_vowel']), ''),\n",
        " ((['consonant', 'vowel', 'vowel_nasal', 'consonant'],\n",
        "   ['consonant', 'long_vowel']),\n",
        "  ''),\n",
        " ((['consonant', 'short_vowel', 'h_char'], ['consonant']), ''),\n",
        " ((['wb', 'consonant', 'short_vowel', 'consonant'],\n",
        "   ['consonant', 'long_vowel', 'vowel_nasal']),\n",
        "  u'\\u094d'),\n",
        " ((['wb', 'short_vowel', 'consonant'], ['consonant', 'short_vowel']), ''),\n",
        " ((['wb', 'short_vowel', 'consonant'],\n",
        "   ['consonant', 'long_vowel', 'consonant']),\n",
        "  ''),\n",
        " ((['consonant', 'short_vowel', 'consonant'], ['consonant', 'long_vowel']),\n",
        "  ''),\n",
        " ((['wb', 'vowel', 'consonant'], ['consonant', 'vowel']), ''),\n",
        " ((['wb', 'consonant', 'short_vowel', 'z'], ['z', 'short_vowel', 'consonant']),\n",
        "  ''),\n",
        " ((['wb', 'consonant', 'short_vowel', 'consonant'],\n",
        "   ['consonant', 'short_vowel', 'consonant']),\n",
        "  ''),\n",
        " ((['n'], ['consonant']), ''),\n",
        " ((['wb', 'long_vowel', 'consonant'], ['consonant', 'long_vowel']), ''),\n",
        " ((['consonant'], ['consonant']), u'\\u094d'),\n",
        " ((['k'], ['k_group']), u'\\u094d'),\n",
        " ((['ch'], ['ch_group']), u'\\u094d'),\n",
        " ((['wb', 'consonant', 'long_vowel', 'consonant'],\n",
        "   ['consonant', 'long_vowel']),\n",
        "  ''),\n",
        " ((['wb', 'consonant', 'long_vowel', 'consonant'],\n",
        "   ['consonant', 'short_vowel', 'consonant']),\n",
        "  ''),\n",
        " ((['wb', 'consonant', 'short_vowel', 'sibilant'], ['consonant', 'wb']),\n",
        "  u'\\u094d'),\n",
        " ((['wb', 'consonant', 'short_vowel', 'consonant'], ['consonant', 'wb']), ''),\n",
        " ((['wb', 'short_vowel', 'consonant'], ['consonant', 'long_vowel', 'wb']), ''),\n",
        " ((['wb', 'short_vowel', 'consonant'],\n",
        "   ['consonant', 'long_vowel', 'consonant', 'wb']),\n",
        "  ''),\n",
        " ((['wb', 'short_vowel', 'consonant', 'short_vowel', 'consonant'],\n",
        "   ['consonant', 'short_vowel', 'consonant']),\n",
        "  ''),\n",
        " ((['vowel', 'n'], ['consonant']), ''),\n",
        " ((['consonant'], ['n', 'aa', 'wb']), ''),\n",
        " ((['consonant'], ['n', 'e', 'wb']), ''),\n",
        " ((['consonant'], ['t', 'aa', 'wb']), ''),\n",
        " ((['consonant'], ['t', 'e', 'wb']), ''),\n",
        " ((['consonant'], ['t', 'ii', 'wb']), ''),\n",
        " ((['consonant'], ['ain', 'short_vowel', 'wb']), ''),\n",
        " ((['short_vowel', 'ain'], ['consonant']), ''),\n",
        " ((['wb', 'consonant', 'short_vowel'], ['consonant', 'long_vowel']), ''),\n",
        " ((['wb', 'consonant', 'short_vowel', 'consonant'],\n",
        "   ['consonant', 'long_vowel']),\n",
        "  ''),\n",
        " ((['consonant'], ['consonant']), u'\\u094d')]"
       ]
      }
     ],
     "prompt_number": 5
    },
    {
     "cell_type": "code",
     "collapsed": false,
     "input": [
      "nagarip.old_parser."
     ],
     "language": "python",
     "metadata": {},
     "outputs": []
    },
    {
     "cell_type": "code",
     "collapsed": false,
     "input": [],
     "language": "python",
     "metadata": {},
     "outputs": []
    }
   ],
   "metadata": {}
  }
 ]
}