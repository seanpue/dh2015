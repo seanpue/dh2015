{
 "metadata": {
  "name": "",
  "signature": "sha256:f2a424c4d1c7bc33778d2a3b12b58b508e3d691c450b05e8675475ce27302afb"
 },
 "nbformat": 3,
 "nbformat_minor": 0,
 "worksheets": [
  {
   "cells": [
    {
     "cell_type": "markdown",
     "metadata": {},
     "source": [
      "Temporary tests"
     ]
    },
    {
     "cell_type": "code",
     "collapsed": false,
     "input": [
      "import graphparser\n",
      "reload(graphparser)\n",
      "nagarip = graphparser.GraphParser('settings/devanagari.yaml')\n",
      "urdup = graphparser.GraphParser('settings/urdu.yaml')"
     ],
     "language": "python",
     "metadata": {},
     "outputs": [],
     "prompt_number": 31
    },
    {
     "cell_type": "code",
     "collapsed": false,
     "input": [
      "omr = nagarip.onmatch_rules"
     ],
     "language": "python",
     "metadata": {},
     "outputs": [],
     "prompt_number": 32
    },
    {
     "cell_type": "code",
     "collapsed": false,
     "input": [
      "len(omr)"
     ],
     "language": "python",
     "metadata": {},
     "outputs": [
      {
       "metadata": {},
       "output_type": "pyout",
       "prompt_number": 33,
       "text": [
        "44"
       ]
      }
     ],
     "prompt_number": 33
    },
    {
     "cell_type": "code",
     "collapsed": false,
     "input": [
      "def onmatch_rules_token_matrix(self, omr):\n",
      "    '''\n",
      "    Sorts onmatch rules by current match token of rule, reducing number of iterations\n",
      "    '''\n",
      "    token_matrix = {t:[] for t in self.tokens}\n",
      "    ttm = {t:{tc:[] for tc in self.tokens} for t in self.tokens}\n",
      "    for t,t_classes in self.tokens.iteritems():\n",
      "        for o in omr:\n",
      "            match_rules,prod = o\n",
      "            curr_class=match_rules[1]\n",
      "            if curr_class[0] in t_classes:\n",
      "                for t2,t2_classes in self.tokens.iteritems():\n",
      "                    prev_class = match_rules[0]\n",
      "                    if prev_class[0] in t2_classes:\n",
      "                        ttm[t][t2].append(omr)\n",
      "    return ttm\n",
      "ttm=onmatch_rules_token_matrix(nagarip, nagarip.onmatch_rules)"
     ],
     "language": "python",
     "metadata": {},
     "outputs": [],
     "prompt_number": 61
    },
    {
     "cell_type": "code",
     "collapsed": false,
     "input": [
      "len(ttm['k'])"
     ],
     "language": "python",
     "metadata": {},
     "outputs": [
      {
       "metadata": {},
       "output_type": "pyout",
       "prompt_number": 64,
       "text": [
        "85"
       ]
      }
     ],
     "prompt_number": 64
    },
    {
     "cell_type": "code",
     "collapsed": false,
     "input": [
      "        t_om = defaultdict(list)\n",
      "        tokens = self.tokens\n",
      "        for t,t_classes in tokens.iteritems():\n",
      "            for o in omr:\n",
      "                match_rules,prod = o\n",
      "                curr_class=match_rules[1]\n",
      "                if curr_class[0] in t_classes:\n",
      "                    t_om[t].append(o)\n",
      "        return t_om"
     ],
     "language": "python",
     "metadata": {},
     "outputs": []
    },
    {
     "cell_type": "markdown",
     "metadata": {},
     "source": [
      "mr = nagarip.onmatch_rules"
     ]
    },
    {
     "cell_type": "code",
     "collapsed": false,
     "input": [
      "nagarip.onmatch_rules[0]"
     ],
     "language": "python",
     "metadata": {},
     "outputs": [
      {
       "metadata": {},
       "output_type": "pyout",
       "prompt_number": 59,
       "text": [
        "((['z_consonant'], ['z_consonant']), u'\\u094d')"
       ]
      }
     ],
     "prompt_number": 59
    },
    {
     "cell_type": "code",
     "collapsed": false,
     "input": [],
     "language": "python",
     "metadata": {},
     "outputs": []
    }
   ],
   "metadata": {}
  }
 ]
}